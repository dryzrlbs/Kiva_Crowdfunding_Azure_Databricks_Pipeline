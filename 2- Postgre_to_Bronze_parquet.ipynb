{
 "cells": [
  {
   "cell_type": "code",
   "execution_count": 3,
   "id": "3319220d-977a-4ba1-b634-7b2bd49f0098",
   "metadata": {},
   "outputs": [],
   "source": [
    "from pyspark.sql.functions import year, month"
   ]
  },
  {
   "cell_type": "code",
   "execution_count": null,
   "id": "559369b4-fbae-46ac-8707-811ced67b2ab",
   "metadata": {},
   "outputs": [
    {
     "data": {
      "text/plain": [
       "Row(index=63528, id=716200, funded_amount=900.0, loan_amount=900.0, activity='Motorcycle Transport', sector='Transportation', use='to purchase a motorcycle.', country_code='SV', country='El Salvador', region='Osicala', currency='USD', partner_id=199.0, posted_time=datetime.datetime(2014, 5, 26, 20, 29, 44), disbursed_time=datetime.datetime(2014, 5, 22, 10, 0), funded_time=datetime.datetime(2014, 6, 23, 21, 1, 20), term_in_months=20.0, lender_count=31, tags='volunteer_like', borrower_genders='male', repayment_interval='monthly', date=datetime.datetime(2014, 5, 26, 0, 0))"
      ]
     },
     "execution_count": 5,
     "metadata": {},
     "output_type": "execute_result"
    }
   ],
   "source": [
    "import os, findspark\n",
    "from pyspark.sql import SparkSession\n",
    "\n",
    "# ———Include Spark by findspark ———\n",
    "os.environ[\"JAVA_HOME\"]   = r\"C:\\Program Files\\Java\\jdk-17\"\n",
    "os.environ[\"SPARK_HOME\"]  = r\"C:\\tools\\spark-3.5.5-bin-hadoop3\"\n",
    "os.environ[\"PATH\"]        = os.environ[\"SPARK_HOME\"] + r\"\\bin;\" + os.environ[\"PATH\"]\n",
    "findspark.init()\n",
    "\n",
    "# ——— JDBC jar path ———\n",
    "jdbc_jar = r\"C:\\tools\\postgresql-42.7.3.jar\"\n",
    "\n",
    "# ——— Start SparkSession with jar ———\n",
    "\n",
    "spark = (\n",
    "    SparkSession.builder\n",
    "        .appName(\"KivaAzureWrite\")\n",
    "        .master(\"local[*]\")\n",
    "        .config(\"spark.jars\", jdbc_jar)\n",
    "        .config(\"spark.jars.packages\", \n",
    "                \"org.apache.hadoop:hadoop-azure:3.3.4,\"\n",
    "                \"com.microsoft.azure:azure-storage:8.6.6,\"\n",
    "                \"com.azure:azure-storage-file-datalake:12.19.1,\"\n",
    "                \"com.azure:azure-identity:1.10.1\")\n",
    "        .config(\"spark.hadoop.fs.abfss.impl\", \"org.apache.hadoop.fs.azurebfs.SecureAzureBlobFileSystem\")\n",
    "        .getOrCreate()\n",
    ")\n",
    "\n",
    "spark.conf.set(\"fs.azure.account.key.kivastorageacc2.dfs.core.windows.net\", \"Storage_KEY\")\n",
    "\n",
    "\n",
    "# ——— Connect to Postgres in Docker via localhost ———\n",
    "jdbc_url = \"jdbc:postgresql://localhost:5432/KivaCrowdfunding\"\n",
    "\n",
    "df = (\n",
    "    spark.read\n",
    "         .format(\"jdbc\")\n",
    "         .option(\"url\",      jdbc_url)\n",
    "         .option(\"dbtable\",  \"public.kiva_table\")\n",
    "         .option(\"user\",     \"root\")\n",
    "         .option(\"password\", \"root\")\n",
    "         .option(\"driver\",   \"org.postgresql.Driver\")\n",
    "         .load()\n",
    ")\n",
    "\n",
    "df.head()\n",
    "\n"
   ]
  },
  {
   "cell_type": "code",
   "execution_count": null,
   "id": "8c7ee4d9-586e-4af4-ac0f-96827a6c73c7",
   "metadata": {},
   "outputs": [
    {
     "name": "stdout",
     "output_type": "stream",
     "text": [
      "+-------------------+----+-----+\n",
      "|        posted_time|year|month|\n",
      "+-------------------+----+-----+\n",
      "|2014-05-26 20:29:44|2014|    5|\n",
      "|2014-05-26 15:16:27|2014|    5|\n",
      "|2014-05-26 12:48:49|2014|    5|\n",
      "|2014-05-26 16:29:00|2014|    5|\n",
      "|2014-05-26 12:54:03|2014|    5|\n",
      "+-------------------+----+-----+\n",
      "only showing top 5 rows\n",
      "\n"
     ]
    }
   ],
   "source": [
    "\n",
    "# Create a new column with the year and month extracted from the posted_time column \n",
    "df_with_date = df.withColumn(\"year\", year(\"posted_time\")) \\\n",
    "                 .withColumn(\"month\", month(\"posted_time\"))\n",
    "\n",
    "df_with_date.select(\"posted_time\", \"year\", \"month\").show(5)"
   ]
  },
  {
   "cell_type": "code",
   "execution_count": null,
   "id": "23f0bde4-a1ac-4a33-b171-ea1d05fd5c8c",
   "metadata": {},
   "outputs": [],
   "source": [
    "# Write Azure Data Lake Gen2 as parquet files with partitioning by year and month\n",
    "df_with_date.write \\\n",
    "    .partitionBy(\"year\", \"month\") \\\n",
    "    .mode(\"overwrite\") \\\n",
    "    .parquet(\"abfss://kiva-bronze@kivastorageacc2.dfs.core.windows.net/kiva-data\")\n",
    "\n"
   ]
  },
  {
   "cell_type": "code",
   "execution_count": null,
   "id": "7f8444ab-ec45-4138-8324-61f490035104",
   "metadata": {},
   "outputs": [],
   "source": [
    "spark.stop()"
   ]
  }
 ],
 "metadata": {
  "kernelspec": {
   "display_name": "Python 3 (ipykernel)",
   "language": "python",
   "name": "python3"
  },
  "language_info": {
   "codemirror_mode": {
    "name": "ipython",
    "version": 3
   },
   "file_extension": ".py",
   "mimetype": "text/x-python",
   "name": "python",
   "nbconvert_exporter": "python",
   "pygments_lexer": "ipython3",
   "version": "3.9.12"
  }
 },
 "nbformat": 4,
 "nbformat_minor": 5
}
