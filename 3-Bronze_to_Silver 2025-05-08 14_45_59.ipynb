{
 "cells": [
  {
   "cell_type": "code",
   "execution_count": 0,
   "metadata": {
    "application/vnd.databricks.v1+cell": {
     "cellMetadata": {
      "byteLimit": 2048000,
      "rowLimit": 10000
     },
     "inputWidgets": {},
     "nuid": "4bee7475-3549-4b80-bf80-ba2b3a6bdd3e",
     "showTitle": false,
     "tableResultSettingsMap": {},
     "title": ""
    }
   },
   "outputs": [],
   "source": [
    "from pyspark.sql.functions import year, month, col\n",
    "from pyspark.sql.types import StructType, StructField, IntegerType, FloatType, StringType, TimestampType, DateType\n",
    "\n",
    "# --------------------------------------------\n",
    "# 1. Bronze and Silver file paths\n",
    "# --------------------------------------------\n",
    "\n",
    "bronze_base_path = \"abfss://kivabronze@kivastorageacc2.dfs.core.windows.net/\"\n",
    "silver_base_path = \"abfss://kiva-silver@kivastorageacc2.dfs.core.windows.net/kiva-data-clean\"\n",
    "\n"
   ]
  },
  {
   "cell_type": "code",
   "execution_count": 0,
   "metadata": {
    "application/vnd.databricks.v1+cell": {
     "cellMetadata": {
      "byteLimit": 2048000,
      "rowLimit": 10000
     },
     "inputWidgets": {},
     "nuid": "db434409-7e6c-480c-bcb4-0c91738717e3",
     "showTitle": false,
     "tableResultSettingsMap": {},
     "title": ""
    }
   },
   "outputs": [],
   "source": [
    "# Storage account name and key\n",
    "storage_account_name = \"kivastorageacc2\"\n",
    "storage_account_key = \"Your_KEY_HERE\"  # Azure Storage account key\n",
    "\n",
    "spark.conf.set(\n",
    "    f\"fs.azure.account.key.{storage_account_name}.dfs.core.windows.net\", \n",
    "    storage_account_key\n",
    ")"
   ]
  },
  {
   "cell_type": "code",
   "execution_count": 0,
   "metadata": {
    "application/vnd.databricks.v1+cell": {
     "cellMetadata": {
      "byteLimit": 2048000,
      "rowLimit": 10000
     },
     "inputWidgets": {},
     "nuid": "81f35d95-a1de-449d-8658-a5d73c32005a",
     "showTitle": false,
     "tableResultSettingsMap": {},
     "title": ""
    }
   },
   "outputs": [],
   "source": [
    "# --------------------------------------------\n",
    "# 2. Read Bronze Data\n",
    "# --------------------------------------------\n",
    "\n",
    "df_bronze = spark.read.option(\"recursiveFileLookup\", \"true\").parquet(bronze_base_path)\n"
   ]
  },
  {
   "cell_type": "code",
   "execution_count": 0,
   "metadata": {
    "application/vnd.databricks.v1+cell": {
     "cellMetadata": {
      "byteLimit": 2048000,
      "rowLimit": 10000
     },
     "inputWidgets": {},
     "nuid": "18a6e3d9-d536-41e2-9d90-a00801965f54",
     "showTitle": false,
     "tableResultSettingsMap": {},
     "title": ""
    }
   },
   "outputs": [],
   "source": [
    "\n",
    "# --------------------------------------------\n",
    "# 3. Data preparetions\n",
    "# --------------------------------------------\n",
    "df_cleaned = (\n",
    "    df_bronze\n",
    "    .dropna(subset=[\"id\", \"loan_amount\", \"country\", \"posted_time\"])  # critical nulls are deleted\n",
    "    .fillna({\"region\": \"Unknown\", \"partner_id\": -1})                 # non-critical nulls are filled\n",
    "    .withColumn(\"year\", year(\"date\"))\n",
    "    .withColumn(\"month\", month(\"date\"))\n",
    ")\n"
   ]
  },
  {
   "cell_type": "code",
   "execution_count": 0,
   "metadata": {
    "application/vnd.databricks.v1+cell": {
     "cellMetadata": {
      "byteLimit": 2048000,
      "rowLimit": 10000
     },
     "inputWidgets": {},
     "nuid": "0da44276-67c2-4df0-b0b0-4cd0d1ce6443",
     "showTitle": false,
     "tableResultSettingsMap": {},
     "title": ""
    }
   },
   "outputs": [
    {
     "name": "stdout",
     "output_type": "stream",
     "text": [
      "Temizlenmiş veri başarıyla Silver katmanına yazıldı.\n"
     ]
    }
   ],
   "source": [
    "\n",
    "# --------------------------------------------\n",
    "# 4. Write to Silver Layer \n",
    "# --------------------------------------------\n",
    "\n",
    "df_cleaned.write \\\n",
    "    .mode(\"overwrite\") \\\n",
    "    .partitionBy(\"year\", \"month\") \\\n",
    "    .parquet(silver_base_path)\n",
    "\n",
    "print(\"Temizlenmiş veri başarıyla Silver katmanına yazıldı.\")"
   ]
  }
 ],
 "metadata": {
  "application/vnd.databricks.v1+notebook": {
   "computePreferences": null,
   "dashboards": [],
   "environmentMetadata": {
    "base_environment": "",
    "environment_version": "2"
   },
   "inputWidgetPreferences": null,
   "language": "python",
   "notebookMetadata": {
    "pythonIndentUnit": 4
   },
   "notebookName": "Kiva_Bronze_to_Silver 2025-05-08 14:45:59",
   "widgets": {}
  },
  "language_info": {
   "name": "python"
  }
 },
 "nbformat": 4,
 "nbformat_minor": 0
}
