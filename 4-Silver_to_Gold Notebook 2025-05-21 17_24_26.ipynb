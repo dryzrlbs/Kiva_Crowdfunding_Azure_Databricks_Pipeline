{
 "cells": [
  {
   "cell_type": "code",
   "execution_count": 0,
   "metadata": {
    "application/vnd.databricks.v1+cell": {
     "cellMetadata": {
      "byteLimit": 2048000,
      "rowLimit": 10000
     },
     "inputWidgets": {},
     "nuid": "5fc263eb-7064-4fe1-b971-f5f02a96420e",
     "showTitle": false,
     "tableResultSettingsMap": {},
     "title": ""
    }
   },
   "outputs": [],
   "source": [
    "from pyspark.sql.functions import col, year, month, dayofmonth, date_format, sum, avg, count, desc, round, when, expr, lit\n",
    "from pyspark.sql.window import Window\n",
    "\n",
    "# ---------------------------------------------\n",
    "# 1. Azure storage path definitions\n",
    "# ---------------------------------------------\n",
    "silver_base_path = \"abfss://kiva-silver@kivastorageacc2.dfs.core.windows.net/kiva-data-clean\"\n",
    "golden_base_path = \"abfss://kiva-gold@kivastorageacc2.dfs.core.windows.net/kiva-analytics\"\n",
    "\n",
    "# ---------------------------------------------\n",
    "# 2. Storage account configuration\n",
    "# ---------------------------------------------\n",
    "storage_account_name = \"kivastorageacc2\"\n",
    "storage_account_key = \"YourStorageAccountKeyHere\"  # Replace with your actual storage account key\n",
    "\n",
    "spark.conf.set(\n",
    "    f\"fs.azure.account.key.{storage_account_name}.dfs.core.windows.net\", \n",
    "    storage_account_key\n",
    ")\n"
   ]
  },
  {
   "cell_type": "code",
   "execution_count": 0,
   "metadata": {
    "application/vnd.databricks.v1+cell": {
     "cellMetadata": {
      "byteLimit": 2048000,
      "rowLimit": 10000
     },
     "inputWidgets": {},
     "nuid": "770c3906-f1fd-4200-a065-7102a4592356",
     "showTitle": false,
     "tableResultSettingsMap": {},
     "title": ""
    }
   },
   "outputs": [],
   "source": [
    "# ---------------------------------------------\n",
    "# 3. Read silver data\n",
    "# ---------------------------------------------\n",
    "df_silver = spark.read.option(\"recursiveFileLookup\", \"true\").parquet(silver_base_path)"
   ]
  },
  {
   "cell_type": "code",
   "execution_count": 0,
   "metadata": {
    "application/vnd.databricks.v1+cell": {
     "cellMetadata": {
      "byteLimit": 2048000,
      "rowLimit": 10000
     },
     "inputWidgets": {},
     "nuid": "3a4e411c-c1f1-454c-a18f-19422ecfac29",
     "showTitle": false,
     "tableResultSettingsMap": {},
     "title": ""
    }
   },
   "outputs": [],
   "source": [
    "# ---------------------------------------------\n",
    "# 4. Data transformations for gold layer\n",
    "# ---------------------------------------------\n",
    "\n",
    "# 4.1. County based loan summary\n",
    "country_summary = (\n",
    "    df_silver\n",
    "    .groupBy(\"country\")\n",
    "    .agg(\n",
    "        count(\"id\").alias(\"total_loans\"),\n",
    "        round(sum(\"loan_amount\"), 2).alias(\"total_loan_amount\"),\n",
    "        round(avg(\"loan_amount\"), 2).alias(\"avg_loan_amount\")\n",
    "    )\n",
    "    .orderBy(desc(\"total_loans\"))\n",
    ")\n"
   ]
  },
  {
   "cell_type": "code",
   "execution_count": 0,
   "metadata": {
    "application/vnd.databricks.v1+cell": {
     "cellMetadata": {
      "byteLimit": 2048000,
      "rowLimit": 10000
     },
     "inputWidgets": {},
     "nuid": "968cdfa7-1442-492c-a5a6-358b509284e4",
     "showTitle": false,
     "tableResultSettingsMap": {},
     "title": ""
    }
   },
   "outputs": [],
   "source": [
    "# 4.2. Date based trend analyse\n",
    "date_summary = (\n",
    "    df_silver\n",
    "    .withColumn(\"loan_date\", date_format(\"posted_time\", \"yyyy-MM-dd\"))\n",
    "    .groupBy(\"loan_date\")\n",
    "    .agg(\n",
    "        count(\"id\").alias(\"daily_loan_count\"),\n",
    "        round(sum(\"loan_amount\"), 2).alias(\"daily_loan_amount\")\n",
    "    )\n",
    "    .orderBy(\"loan_date\")\n",
    ")\n"
   ]
  },
  {
   "cell_type": "code",
   "execution_count": 0,
   "metadata": {
    "application/vnd.databricks.v1+cell": {
     "cellMetadata": {
      "byteLimit": 2048000,
      "rowLimit": 10000
     },
     "inputWidgets": {},
     "nuid": "fe0cc0e3-d515-47f8-a317-4ddc851f1db3",
     "showTitle": false,
     "tableResultSettingsMap": {},
     "title": ""
    }
   },
   "outputs": [],
   "source": [
    "# 4.3. Sector based loans\n",
    "sector_summary = (\n",
    "    df_silver\n",
    "    .groupBy(\"sector\")\n",
    "    .agg(\n",
    "        count(\"id\").alias(\"sector_loan_count\"),\n",
    "        round(sum(\"loan_amount\"), 2).alias(\"sector_loan_amount\"),\n",
    "        round(avg(\"loan_amount\"), 2).alias(\"sector_avg_loan\")\n",
    "    )\n",
    "    .orderBy(desc(\"sector_loan_count\"))\n",
    ")"
   ]
  },
  {
   "cell_type": "code",
   "execution_count": 0,
   "metadata": {
    "application/vnd.databricks.v1+cell": {
     "cellMetadata": {
      "byteLimit": 2048000,
      "rowLimit": 10000
     },
     "inputWidgets": {},
     "nuid": "2fe02137-228d-4e20-a664-6427624f187f",
     "showTitle": false,
     "tableResultSettingsMap": {},
     "title": ""
    }
   },
   "outputs": [],
   "source": [
    "# 4.4. Loan distrubution by gender\n",
    "gender_summary = (\n",
    "    df_silver\n",
    "    .groupBy(\"borrower_genders\")  \n",
    "    .agg(\n",
    "        count(\"id\").alias(\"gender_loan_count\"),\n",
    "        round(sum(\"loan_amount\"), 2).alias(\"gender_loan_amount\"),\n",
    "        round(avg(\"loan_amount\"), 2).alias(\"gender_avg_loan\")\n",
    "    )\n",
    ")"
   ]
  },
  {
   "cell_type": "code",
   "execution_count": 0,
   "metadata": {
    "application/vnd.databricks.v1+cell": {
     "cellMetadata": {
      "byteLimit": 2048000,
      "rowLimit": 10000
     },
     "inputWidgets": {},
     "nuid": "3b80ed87-6186-453f-a0a2-48b5f145aabd",
     "showTitle": false,
     "tableResultSettingsMap": {},
     "title": ""
    }
   },
   "outputs": [],
   "source": [
    "# 4.5. Risk evaluation \n",
    "risk_analysis = (\n",
    "    df_silver\n",
    "    .withColumn(\n",
    "        \"risk_score\", \n",
    "        when(col(\"loan_amount\") < 500, \"Low\")\n",
    "        .when(col(\"loan_amount\").between(500, 2000), \"Medium\")\n",
    "        .otherwise(\"High\")\n",
    "    )\n",
    "    .groupBy(\"risk_score\")\n",
    "    .agg(\n",
    "        count(\"id\").alias(\"risk_loan_count\"),\n",
    "        round(sum(\"loan_amount\"), 2).alias(\"risk_loan_amount\")\n",
    "    )\n",
    ")\n"
   ]
  },
  {
   "cell_type": "code",
   "execution_count": 0,
   "metadata": {
    "application/vnd.databricks.v1+cell": {
     "cellMetadata": {
      "byteLimit": 2048000,
      "rowLimit": 10000
     },
     "inputWidgets": {},
     "nuid": "2a2bd7d0-6c0c-4c34-90a4-ea7eb34f506f",
     "showTitle": false,
     "tableResultSettingsMap": {},
     "title": ""
    }
   },
   "outputs": [],
   "source": [
    "# ---------------------------------------------\n",
    "# 5. Writing data to the gold layer\n",
    "# ---------------------------------------------\n",
    "\n",
    "# 5.1. Country based\n",
    "country_summary.write.mode(\"overwrite\").parquet(f\"{golden_base_path}/country_analysis\")\n",
    "\n",
    "# 5.2. Date trend\n",
    "date_summary.write.mode(\"overwrite\").parquet(f\"{golden_base_path}/date_analysis\")\n",
    "\n",
    "# 5.3. Sector analysis\n",
    "sector_summary.write.mode(\"overwrite\").parquet(f\"{golden_base_path}/sector_analysis\")"
   ]
  },
  {
   "cell_type": "code",
   "execution_count": 0,
   "metadata": {
    "application/vnd.databricks.v1+cell": {
     "cellMetadata": {
      "byteLimit": 2048000,
      "rowLimit": 10000
     },
     "inputWidgets": {},
     "nuid": "c4e67f36-e27e-4c23-afd9-38142748346d",
     "showTitle": false,
     "tableResultSettingsMap": {},
     "title": ""
    }
   },
   "outputs": [],
   "source": [
    "# 5.4. Gender analysis\n",
    "if \"borrower_gender\" in df_silver.columns:\n",
    "    gender_summary.write.mode(\"overwrite\").parquet(f\"{golden_base_path}/gender_analysis\")\n",
    "\n",
    "# 5.5. Risk analysis\n",
    "risk_analysis.write.mode(\"overwrite\").parquet(f\"{golden_base_path}/risk_analysis\")"
   ]
  },
  {
   "cell_type": "code",
   "execution_count": 0,
   "metadata": {
    "application/vnd.databricks.v1+cell": {
     "cellMetadata": {
      "byteLimit": 2048000,
      "rowLimit": 10000
     },
     "inputWidgets": {},
     "nuid": "5f2bd51f-e7b7-453a-ab64-12ce26adc4ea",
     "showTitle": false,
     "tableResultSettingsMap": {},
     "title": ""
    }
   },
   "outputs": [],
   "source": [
    "# ---------------------------------------------\n",
    "# 6. Creating a Summary Table\n",
    "# ---------------------------------------------\n",
    "summary_view = (\n",
    "    df_silver\n",
    "    .withColumn(\"year\", year(\"posted_time\"))\n",
    "    .withColumn(\"month\", month(\"posted_time\"))\n",
    "    .withColumn(\"risk_category\", when(col(\"loan_amount\") < 500, \"Low\")\n",
    "                                .when(col(\"loan_amount\").between(500, 2000), \"Medium\")\n",
    "                                .otherwise(\"High\"))\n",
    "    .groupBy(\"country\", \"sector\", \"year\", \"month\", \"risk_category\")\n",
    "    .agg(\n",
    "        count(\"id\").alias(\"num_loans\"),\n",
    "        round(sum(\"loan_amount\"), 2).alias(\"total_amount\"),\n",
    "        round(avg(\"loan_amount\"), 2).alias(\"avg_amount\")\n",
    "    )\n",
    ")"
   ]
  },
  {
   "cell_type": "code",
   "execution_count": 0,
   "metadata": {
    "application/vnd.databricks.v1+cell": {
     "cellMetadata": {
      "byteLimit": 2048000,
      "rowLimit": 10000
     },
     "inputWidgets": {},
     "nuid": "a0bbd3b0-6975-47e2-9609-62d7a48e5148",
     "showTitle": false,
     "tableResultSettingsMap": {},
     "title": ""
    }
   },
   "outputs": [
    {
     "name": "stdout",
     "output_type": "stream",
     "text": [
      "Golden katman başarıyla oluşturuldu!\n"
     ]
    }
   ],
   "source": [
    "# Save the summary table    \n",
    "summary_view.write.mode(\"overwrite\").partitionBy(\"year\", \"month\").parquet(f\"{golden_base_path}/summary_view\")\n",
    "\n",
    "print(\"Gold katman başarıyla oluşturuldu!\")\n",
    "\n",
    "# We can choose Delta format (if Delta Lake loaded)\n",
    "# summary_view.write.format(\"deltas\").mode(\"overwrite\").partitionBy(\"year\", \"month\").save(f\"{golden_base_path}/summary_view_delta\")"
   ]
  }
 ],
 "metadata": {
  "application/vnd.databricks.v1+notebook": {
   "computePreferences": null,
   "dashboards": [],
   "environmentMetadata": {
    "base_environment": "",
    "environment_version": "2"
   },
   "inputWidgetPreferences": null,
   "language": "python",
   "notebookMetadata": {
    "pythonIndentUnit": 4
   },
   "notebookName": "Silver_to_Golden Notebook 2025-05-21 17:24:26",
   "widgets": {}
  },
  "language_info": {
   "name": "python"
  }
 },
 "nbformat": 4,
 "nbformat_minor": 0
}
